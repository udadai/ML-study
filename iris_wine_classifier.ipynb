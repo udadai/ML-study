{
  "nbformat": 4,
  "nbformat_minor": 0,
  "metadata": {
    "colab": {
      "provenance": [],
      "authorship_tag": "ABX9TyPsCjsy+bjMMUtgmwGqY81M",
      "include_colab_link": true
    },
    "kernelspec": {
      "name": "python3",
      "display_name": "Python 3"
    },
    "language_info": {
      "name": "python"
    }
  },
  "cells": [
    {
      "cell_type": "markdown",
      "metadata": {
        "id": "view-in-github",
        "colab_type": "text"
      },
      "source": [
        "<a href=\"https://colab.research.google.com/github/udadai/ML-study/blob/main/iris_wine_classifier.ipynb\" target=\"_parent\"><img src=\"https://colab.research.google.com/assets/colab-badge.svg\" alt=\"Open In Colab\"/></a>"
      ]
    },
    {
      "cell_type": "markdown",
      "source": [
        "# 분류"
      ],
      "metadata": {
        "id": "C-bFIWr5xiCh"
      }
    },
    {
      "cell_type": "markdown",
      "source": [
        "## iris"
      ],
      "metadata": {
        "id": "g1zgR20pxjJp"
      }
    },
    {
      "cell_type": "code",
      "source": [
        "import numpy as np\n",
        "import pandas as pd\n",
        "from sklearn.datasets import load_iris\n",
        "from sklearn.model_selection import train_test_split, GridSearchCV, RandomizedSearchCV"
      ],
      "metadata": {
        "id": "PweQLZFIxo2e"
      },
      "execution_count": 68,
      "outputs": []
    },
    {
      "cell_type": "markdown",
      "source": [
        "### 데이터"
      ],
      "metadata": {
        "id": "0BdHaz3gxkHm"
      }
    },
    {
      "cell_type": "code",
      "source": [
        "iris = load_iris()"
      ],
      "metadata": {
        "id": "j0aH1Utex7Rg"
      },
      "execution_count": 69,
      "outputs": []
    },
    {
      "cell_type": "code",
      "source": [
        "iris_input = iris.data\n",
        "iris_target = iris.target"
      ],
      "metadata": {
        "id": "m60KGZvcy4yY"
      },
      "execution_count": 70,
      "outputs": []
    },
    {
      "cell_type": "code",
      "source": [
        "train_input, test_input, train_target, test_target = train_test_split(iris.data, iris.target, random_state=42)"
      ],
      "metadata": {
        "id": "Ei_L9xZKzOd_"
      },
      "execution_count": 71,
      "outputs": []
    },
    {
      "cell_type": "markdown",
      "source": [
        "### 모델"
      ],
      "metadata": {
        "id": "gbr4ZSloxlgm"
      }
    },
    {
      "cell_type": "code",
      "source": [
        "from sklearn.neighbors import KNeighborsClassifier\n",
        "knc = KNeighborsClassifier()\n",
        "knc.fit(train_input, train_target)\n",
        "print(knc.score(train_input, train_target))\n",
        "print(knc.score(test_input, test_target))"
      ],
      "metadata": {
        "colab": {
          "base_uri": "https://localhost:8080/"
        },
        "id": "spzJLrx-zANA",
        "outputId": "b08c7dcd-73f7-4b8f-90f4-e986428eb81e"
      },
      "execution_count": 72,
      "outputs": [
        {
          "output_type": "stream",
          "name": "stdout",
          "text": [
            "0.9642857142857143\n",
            "1.0\n"
          ]
        }
      ]
    },
    {
      "cell_type": "code",
      "source": [
        "from sklearn.linear_model import LogisticRegression\n",
        "lr = LogisticRegression(C=10, max_iter=1000)\n",
        "lr.fit(train_input, train_target)\n",
        "print(lr.score(train_input, train_target))\n",
        "print(lr.score(test_input, test_target))"
      ],
      "metadata": {
        "colab": {
          "base_uri": "https://localhost:8080/"
        },
        "id": "4h6cywNUzLkq",
        "outputId": "6b56363e-a4a6-4708-9762-a0d0bb65e8c2"
      },
      "execution_count": 73,
      "outputs": [
        {
          "output_type": "stream",
          "name": "stdout",
          "text": [
            "0.9910714285714286\n",
            "1.0\n"
          ]
        }
      ]
    },
    {
      "cell_type": "code",
      "source": [
        "param_grid = {'C': [0.001, 0.01, 0.1, 1, 10, 100]}\n",
        "grid_search = GridSearchCV(LogisticRegression(max_iter=1000), param_grid, cv=5)\n",
        "grid_search.fit(train_input, train_target)\n",
        "print(grid_search.score(train_input, train_target))\n",
        "print(grid_search.score(test_input, test_target))"
      ],
      "metadata": {
        "colab": {
          "base_uri": "https://localhost:8080/"
        },
        "id": "3S00B4z0ce8H",
        "outputId": "732e74a6-43aa-488f-e48c-fed7d6af277b"
      },
      "execution_count": 74,
      "outputs": [
        {
          "output_type": "stream",
          "name": "stdout",
          "text": [
            "0.9642857142857143\n",
            "1.0\n"
          ]
        }
      ]
    },
    {
      "cell_type": "code",
      "source": [
        "from sklearn.linear_model import SGDClassifier\n",
        "sgd = SGDClassifier()\n",
        "sgd.fit(train_input, train_target)\n",
        "print(sgd.score(train_input, train_target))\n",
        "print(sgd.score(test_input, test_target))"
      ],
      "metadata": {
        "colab": {
          "base_uri": "https://localhost:8080/"
        },
        "id": "tvDn-ratadIi",
        "outputId": "bc2bddbf-cdd1-47b8-c253-9c839be5074b"
      },
      "execution_count": 75,
      "outputs": [
        {
          "output_type": "stream",
          "name": "stdout",
          "text": [
            "0.5982142857142857\n",
            "0.631578947368421\n"
          ]
        }
      ]
    },
    {
      "cell_type": "markdown",
      "source": [
        "### 검증"
      ],
      "metadata": {
        "id": "mQkzopEGxm1k"
      }
    },
    {
      "cell_type": "code",
      "source": [
        "from sklearn.metrics import accuracy_score\n",
        "knc_pred = knc.predict(train_input)\n",
        "knc_train_acc = accuracy_score(train_target, knc_pred)\n",
        "knc_pred = knc.predict(test_input)\n",
        "knc_test_acc = accuracy_score(test_target, knc_pred)\n",
        "print(knc_train_acc, knc_test_acc)"
      ],
      "metadata": {
        "colab": {
          "base_uri": "https://localhost:8080/"
        },
        "id": "qZzF4MEbQfD3",
        "outputId": "733714e1-cf1a-442f-b4d7-fcd5f70580f2"
      },
      "execution_count": 76,
      "outputs": [
        {
          "output_type": "stream",
          "name": "stdout",
          "text": [
            "0.9642857142857143 1.0\n"
          ]
        }
      ]
    },
    {
      "cell_type": "code",
      "source": [
        "lr_pred = lr.predict(train_input)\n",
        "lr_train_acc = accuracy_score(train_target, lr_pred)\n",
        "lr_pred = lr.predict(test_input)\n",
        "lr_test_acc = accuracy_score(test_target, lr_pred)\n",
        "print(lr_train_acc, lr_test_acc)"
      ],
      "metadata": {
        "colab": {
          "base_uri": "https://localhost:8080/"
        },
        "id": "9bGjiT_ebh_S",
        "outputId": "2d8ab99b-eb24-4a86-881a-aa6f199cf99a"
      },
      "execution_count": 77,
      "outputs": [
        {
          "output_type": "stream",
          "name": "stdout",
          "text": [
            "0.9910714285714286 1.0\n"
          ]
        }
      ]
    },
    {
      "cell_type": "code",
      "source": [
        "sgd_pred = sgd.predict(train_input)\n",
        "sgd_train_acc = accuracy_score(train_target, sgd_pred)\n",
        "sgd_pred = sgd.predict(test_input)\n",
        "sgd_test_acc = accuracy_score(test_target, sgd_pred)\n",
        "print(sgd_train_acc, sgd_test_acc)"
      ],
      "metadata": {
        "colab": {
          "base_uri": "https://localhost:8080/"
        },
        "id": "oY2PFksDbuhK",
        "outputId": "6a943814-9ce1-461f-fded-298f093198f7"
      },
      "execution_count": 78,
      "outputs": [
        {
          "output_type": "stream",
          "name": "stdout",
          "text": [
            "0.5982142857142857 0.631578947368421\n"
          ]
        }
      ]
    },
    {
      "cell_type": "markdown",
      "source": [
        "## digits"
      ],
      "metadata": {
        "id": "yYyJvjWnhQbB"
      }
    },
    {
      "cell_type": "code",
      "source": [
        "import numpy as np\n",
        "import pandas as pd\n",
        "from sklearn.datasets import load_digits\n",
        "from sklearn.model_selection import train_test_split"
      ],
      "metadata": {
        "id": "YsMoiFOYhaa-"
      },
      "execution_count": 79,
      "outputs": []
    },
    {
      "cell_type": "markdown",
      "source": [
        "### 데이터"
      ],
      "metadata": {
        "id": "UARMbaxliYV9"
      }
    },
    {
      "cell_type": "code",
      "source": [
        "X, y = load_digits(return_X_y=True)\n",
        "train_input, test_input, train_target, test_target = train_test_split(X, y, random_state=42)"
      ],
      "metadata": {
        "id": "ZIxUoO4-hrwY"
      },
      "execution_count": 80,
      "outputs": []
    },
    {
      "cell_type": "markdown",
      "source": [
        "### 모델"
      ],
      "metadata": {
        "id": "IV4PmomiiZpg"
      }
    },
    {
      "cell_type": "code",
      "source": [
        "from sklearn.linear_model import LogisticRegression\n",
        "lr = LogisticRegression(max_iter=5000)\n",
        "lr.fit(train_input, train_target)\n",
        "print(lr.score(train_input, train_target))\n",
        "print(lr.score(test_input, test_target))"
      ],
      "metadata": {
        "colab": {
          "base_uri": "https://localhost:8080/"
        },
        "id": "VhVtmX2wiXWL",
        "outputId": "f5387365-9c4b-4553-cd4d-2ff55888dc14"
      },
      "execution_count": 81,
      "outputs": [
        {
          "output_type": "stream",
          "name": "stdout",
          "text": [
            "1.0\n",
            "0.9733333333333334\n"
          ]
        }
      ]
    },
    {
      "cell_type": "markdown",
      "source": [
        "### 검증"
      ],
      "metadata": {
        "id": "gaX0uqScirN1"
      }
    },
    {
      "cell_type": "code",
      "source": [
        "from sklearn.metrics import accuracy_score\n",
        "lr_pred = lr.predict(train_input)\n",
        "lr_train_acc = accuracy_score(train_target, lr_pred)\n",
        "lr_pred = lr.predict(test_input)\n",
        "lr_test_acc = accuracy_score(test_target, lr_pred)\n",
        "print(lr_train_acc, lr_test_acc)"
      ],
      "metadata": {
        "colab": {
          "base_uri": "https://localhost:8080/"
        },
        "id": "AW71Ke9Hisfe",
        "outputId": "adfd544c-4ad7-428c-ccac-ae6a6a77b3ff"
      },
      "execution_count": 82,
      "outputs": [
        {
          "output_type": "stream",
          "name": "stdout",
          "text": [
            "1.0 0.9733333333333334\n"
          ]
        }
      ]
    },
    {
      "cell_type": "markdown",
      "source": [
        "## wines"
      ],
      "metadata": {
        "id": "uVVsq8iQkPp4"
      }
    },
    {
      "cell_type": "code",
      "source": [
        "import numpy as np\n",
        "import pandas as pd\n",
        "from sklearn.datasets import load_wine\n",
        "from sklearn.model_selection import train_test_split"
      ],
      "metadata": {
        "id": "UjOCeEnHkRq7"
      },
      "execution_count": 84,
      "outputs": []
    },
    {
      "cell_type": "code",
      "source": [
        "X, y = load_wine(return_X_y=True)\n",
        "train_input, test_input, train_target, test_target = train_test_split(X, y, random_state=42)"
      ],
      "metadata": {
        "id": "PiamtkQ9kXzn"
      },
      "execution_count": 85,
      "outputs": []
    },
    {
      "cell_type": "code",
      "source": [
        "from sklearn.linear_model import LogisticRegression\n",
        "lr = LogisticRegression(max_iter=5000)\n",
        "lr.fit(train_input, train_target)\n",
        "print(lr.score(train_input, train_target))\n",
        "print(lr.score(test_input, test_target))"
      ],
      "metadata": {
        "colab": {
          "base_uri": "https://localhost:8080/"
        },
        "id": "7-3KuRAAkdW6",
        "outputId": "f9cab417-0aee-4fef-f6ac-8b1703476ebc"
      },
      "execution_count": 86,
      "outputs": [
        {
          "output_type": "stream",
          "name": "stdout",
          "text": [
            "0.9924812030075187\n",
            "1.0\n"
          ]
        }
      ]
    },
    {
      "cell_type": "code",
      "source": [
        "from sklearn.metrics import accuracy_score\n",
        "lr_pred = lr.predict(train_input)\n",
        "lr_train_acc = accuracy_score(train_target, lr_pred)\n",
        "lr_pred = lr.predict(test_input)\n",
        "lr_test_acc = accuracy_score(test_target, lr_pred)\n",
        "print(lr_train_acc, lr_test_acc)"
      ],
      "metadata": {
        "colab": {
          "base_uri": "https://localhost:8080/"
        },
        "id": "UrxW1xkDkfkY",
        "outputId": "b87138c0-32c7-4d59-a3ac-1df54e47897a"
      },
      "execution_count": 87,
      "outputs": [
        {
          "output_type": "stream",
          "name": "stdout",
          "text": [
            "0.9924812030075187 1.0\n"
          ]
        }
      ]
    }
  ]
}